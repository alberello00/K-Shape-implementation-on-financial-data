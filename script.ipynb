{
 "cells": [
  {
   "attachments": {},
   "cell_type": "markdown",
   "metadata": {},
   "source": [
    "Import the packages used"
   ]
  },
  {
   "cell_type": "code",
   "execution_count": 3,
   "metadata": {},
   "outputs": [],
   "source": [
    "import pandas as pd\n",
    "import glob\n",
    "import numpy as np\n",
    "from kshape.core import kshape, zscore"
   ]
  },
  {
   "attachments": {},
   "cell_type": "markdown",
   "metadata": {},
   "source": [
    "Import the file with the financial time-series"
   ]
  },
  {
   "cell_type": "code",
   "execution_count": null,
   "metadata": {},
   "outputs": [],
   "source": [
    "location = \"/Users/albertotrashaj/Desktop/Rendimenti_lordi.xlsx\" \n",
    "excel_files = glob.glob(location) \n",
    "#pd.set_option('display.max_rows',95)"
   ]
  },
  {
   "attachments": {},
   "cell_type": "markdown",
   "metadata": {},
   "source": [
    "Create dataframes that will be used in the clustering section\n"
   ]
  },
  {
   "cell_type": "code",
   "execution_count": null,
   "metadata": {},
   "outputs": [],
   "source": [
    "df1 = pd.DataFrame()\n",
    "for excel_file in excel_files:\n",
    "    df2 = pd.read_excel(excel_file) \n",
    "    df1 = pd.concat([df1,df2])"
   ]
  },
  {
   "attachments": {},
   "cell_type": "markdown",
   "metadata": {},
   "source": [
    "Delete the columns that doesn't present meaningful information for the clustering"
   ]
  },
  {
   "cell_type": "code",
   "execution_count": null,
   "metadata": {},
   "outputs": [],
   "source": [
    "a = df1.drop(columns = [\"Dates\", \"Dates.1\",\"Dates.2\"])"
   ]
  },
  {
   "attachments": {},
   "cell_type": "markdown",
   "metadata": {},
   "source": [
    "Implement the \"elbow-method\" to choose the right number of clusters for the K-Shape algorithm"
   ]
  },
  {
   "cell_type": "code",
   "execution_count": null,
   "metadata": {},
   "outputs": [],
   "source": [
    "K = range(2,30)\n",
    "SSE_list = []\n",
    "for k in K:\n",
    "    km = kshape(n_clusters=k) \n",
    "    km.fit(a) \n",
    "    SSE_list.append(km.inertia_)\n",
    "\n",
    "print(SSE_list)\n",
    "\n",
    "plt.figure(figsize=(20,8))\n",
    "plt.plot(K,SSE_list)\n",
    "plt.xlabel('k')\n",
    "plt.ylabel('SSE')\n",
    "plt.title('The Elbow Method showing the optimal k') \n",
    "plt.show()"
   ]
  },
  {
   "attachments": {},
   "cell_type": "markdown",
   "metadata": {},
   "source": [
    "Implement the shiluoetthe method to choose the right number of clusters for the K-Shape algorithm"
   ]
  },
  {
   "cell_type": "code",
   "execution_count": null,
   "metadata": {},
   "outputs": [],
   "source": [
    "silhouettes = []\n",
    "for k in range (2,30):\n",
    "    km = kshape(n_clusters=k, max_iter=100000).fit(a)\n",
    "    labels = km.labels_ \n",
    "    a[\"Clusters\"]= labels\n",
    "    score = silhouette_score(a,labels,metric=\"euclidean\")\n",
    "    silhouettes.append(score)\n",
    "print(score)\n",
    "print(silhouettes)\n"
   ]
  },
  {
   "attachments": {},
   "cell_type": "markdown",
   "metadata": {},
   "source": [
    "Run the K-Shape algorithm"
   ]
  },
  {
   "cell_type": "code",
   "execution_count": null,
   "metadata": {},
   "outputs": [],
   "source": [
    "for n in range(0,3):\n",
    "    clusters = kshape(zscore(a, axis=1), 4) \n",
    "    print(clusters)"
   ]
  },
  {
   "attachments": {},
   "cell_type": "markdown",
   "metadata": {},
   "source": [
    "Build the similarity matrix"
   ]
  },
  {
   "cell_type": "code",
   "execution_count": null,
   "metadata": {},
   "outputs": [],
   "source": [
    "matrix = [[0 for col in range(0,95)] for row in range(0,95)] \n",
    "for i in range(0,95): \n",
    "    for j in range(0,95):\n",
    "        for k in clusters:\n",
    "            if i != j:\n",
    "                if i in k[1]:\n",
    "                    if j in k[1]:\n",
    "                        matrix[i][j] = matrix[i][j]+1;\n",
    "    print (\"{}% completed\".format(n+1))\n",
    "\n",
    "\n"
   ]
  },
  {
   "attachments": {},
   "cell_type": "markdown",
   "metadata": {},
   "source": [
    "Print the matrix in .csv format"
   ]
  },
  {
   "cell_type": "code",
   "execution_count": null,
   "metadata": {},
   "outputs": [],
   "source": [
    "z = np.array(matrix)\n",
    "for row in matrix:\n",
    "    for val in row:\n",
    "        print (val, end = \"\")\n",
    "    print()\n",
    "\n",
    "np.savetxt(\"Matrix_of_similarity.csv\", z.astype(int), fmt = \"%i\", delimiter=\",\")"
   ]
  }
 ],
 "metadata": {
  "kernelspec": {
   "display_name": "Python 3",
   "language": "python",
   "name": "python3"
  },
  "language_info": {
   "codemirror_mode": {
    "name": "ipython",
    "version": 3
   },
   "file_extension": ".py",
   "mimetype": "text/x-python",
   "name": "python",
   "nbconvert_exporter": "python",
   "pygments_lexer": "ipython3",
   "version": "3.11.1"
  },
  "orig_nbformat": 4,
  "vscode": {
   "interpreter": {
    "hash": "aee8b7b246df8f9039afb4144a1f6fd8d2ca17a180786b69acc140d282b71a49"
   }
  }
 },
 "nbformat": 4,
 "nbformat_minor": 2
}
